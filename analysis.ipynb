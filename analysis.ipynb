{
 "cells": [
  {
   "cell_type": "code",
   "execution_count": 10,
   "metadata": {},
   "outputs": [
    {
     "data": {
      "text/html": [
       "<div>\n",
       "<style scoped>\n",
       "    .dataframe tbody tr th:only-of-type {\n",
       "        vertical-align: middle;\n",
       "    }\n",
       "\n",
       "    .dataframe tbody tr th {\n",
       "        vertical-align: top;\n",
       "    }\n",
       "\n",
       "    .dataframe thead th {\n",
       "        text-align: right;\n",
       "    }\n",
       "</style>\n",
       "<table border=\"1\" class=\"dataframe\">\n",
       "  <thead>\n",
       "    <tr style=\"text-align: right;\">\n",
       "      <th></th>\n",
       "      <th>date</th>\n",
       "      <th>p/e</th>\n",
       "      <th>p/b</th>\n",
       "      <th>div yield %</th>\n",
       "      <th>close</th>\n",
       "      <th>eps</th>\n",
       "    </tr>\n",
       "  </thead>\n",
       "  <tbody>\n",
       "    <tr>\n",
       "      <th>0</th>\n",
       "      <td>11-Jul-24</td>\n",
       "      <td>23.14</td>\n",
       "      <td>4.19</td>\n",
       "      <td>1.23</td>\n",
       "      <td>24315.95</td>\n",
       "      <td>1050.82</td>\n",
       "    </tr>\n",
       "    <tr>\n",
       "      <th>1</th>\n",
       "      <td>28-Jun-24</td>\n",
       "      <td>22.85</td>\n",
       "      <td>4.14</td>\n",
       "      <td>1.25</td>\n",
       "      <td>24010.60</td>\n",
       "      <td>1050.79</td>\n",
       "    </tr>\n",
       "    <tr>\n",
       "      <th>2</th>\n",
       "      <td>31-May-24</td>\n",
       "      <td>21.40</td>\n",
       "      <td>3.95</td>\n",
       "      <td>1.28</td>\n",
       "      <td>22530.70</td>\n",
       "      <td>1052.84</td>\n",
       "    </tr>\n",
       "    <tr>\n",
       "      <th>3</th>\n",
       "      <td>30-Apr-24</td>\n",
       "      <td>22.00</td>\n",
       "      <td>3.96</td>\n",
       "      <td>1.16</td>\n",
       "      <td>22604.85</td>\n",
       "      <td>1027.49</td>\n",
       "    </tr>\n",
       "    <tr>\n",
       "      <th>4</th>\n",
       "      <td>28-Mar-24</td>\n",
       "      <td>22.88</td>\n",
       "      <td>3.94</td>\n",
       "      <td>1.20</td>\n",
       "      <td>22326.90</td>\n",
       "      <td>975.83</td>\n",
       "    </tr>\n",
       "  </tbody>\n",
       "</table>\n",
       "</div>"
      ],
      "text/plain": [
       "        date    p/e   p/b  div yield %     close      eps\n",
       "0  11-Jul-24  23.14  4.19         1.23  24315.95  1050.82\n",
       "1  28-Jun-24  22.85  4.14         1.25  24010.60  1050.79\n",
       "2  31-May-24  21.40  3.95         1.28  22530.70  1052.84\n",
       "3  30-Apr-24  22.00  3.96         1.16  22604.85  1027.49\n",
       "4  28-Mar-24  22.88  3.94         1.20  22326.90   975.83"
      ]
     },
     "execution_count": 10,
     "metadata": {},
     "output_type": "execute_result"
    }
   ],
   "source": [
    "import pandas as pd\n",
    "da = pd.read_csv(\"niftysorted.csv\")\n",
    "da.head()"
   ]
  },
  {
   "cell_type": "code",
   "execution_count": 11,
   "metadata": {},
   "outputs": [
    {
     "name": "stdout",
     "output_type": "stream",
     "text": [
      "eps::price (%)\n",
      "6 months  8.63 :: 11.92\n",
      "12 months  22.4 :: 23.1\n",
      "18 months  23.33 :: 37.67\n",
      "24 months  26.96 :: 41.72\n",
      "30 months  41.93 :: 40.23\n",
      "36 months  80.06 :: 54.26\n",
      "42 months  181.85 :: 78.34\n",
      "48 months  186.58 :: 119.59\n",
      "54 months  132.0 :: 103.27\n",
      "60 months  159.16 :: 118.71\n"
     ]
    }
   ],
   "source": [
    "cur1 = da[\"eps\"][0:1].values\n",
    "cur2 = da[\"close\"][0:1].values\n",
    "\n",
    "print(\"eps::price (%)\")\n",
    "\n",
    "for t in range(6,61,6):\n",
    "\n",
    "    prev1 = da[\"eps\"][t:t+1].values\n",
    "    val = ((cur1/prev1-1)*100).round(2)\n",
    "    print(f\"{t} months  {val[0]}\",end=\"\")\n",
    "\n",
    "    prev2 = da[\"close\"][t:t+1].values \n",
    "    val = ((cur2/prev2-1)*100).round(2)\n",
    "    print(f\" :: {val[0]}\")"
   ]
  }
 ],
 "metadata": {
  "kernelspec": {
   "display_name": "Python 3",
   "language": "python",
   "name": "python3"
  },
  "language_info": {
   "codemirror_mode": {
    "name": "ipython",
    "version": 3
   },
   "file_extension": ".py",
   "mimetype": "text/x-python",
   "name": "python",
   "nbconvert_exporter": "python",
   "pygments_lexer": "ipython3",
   "version": "3.11.4"
  }
 },
 "nbformat": 4,
 "nbformat_minor": 2
}
