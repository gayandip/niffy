{
 "cells": [
  {
   "cell_type": "code",
   "execution_count": 7,
   "metadata": {},
   "outputs": [
    {
     "data": {
      "text/html": [
       "<div>\n",
       "<style scoped>\n",
       "    .dataframe tbody tr th:only-of-type {\n",
       "        vertical-align: middle;\n",
       "    }\n",
       "\n",
       "    .dataframe tbody tr th {\n",
       "        vertical-align: top;\n",
       "    }\n",
       "\n",
       "    .dataframe thead th {\n",
       "        text-align: right;\n",
       "    }\n",
       "</style>\n",
       "<table border=\"1\" class=\"dataframe\">\n",
       "  <thead>\n",
       "    <tr style=\"text-align: right;\">\n",
       "      <th></th>\n",
       "      <th>date</th>\n",
       "      <th>p/e</th>\n",
       "      <th>p/b</th>\n",
       "      <th>div yield %</th>\n",
       "      <th>close</th>\n",
       "      <th>eps</th>\n",
       "    </tr>\n",
       "  </thead>\n",
       "  <tbody>\n",
       "    <tr>\n",
       "      <th>0</th>\n",
       "      <td>29-Dec-23</td>\n",
       "      <td>23.17</td>\n",
       "      <td>3.81</td>\n",
       "      <td>1.28</td>\n",
       "      <td>21731.40</td>\n",
       "      <td>937.910</td>\n",
       "    </tr>\n",
       "    <tr>\n",
       "      <th>1</th>\n",
       "      <td>30-Nov-23</td>\n",
       "      <td>21.52</td>\n",
       "      <td>3.53</td>\n",
       "      <td>1.35</td>\n",
       "      <td>20133.15</td>\n",
       "      <td>935.560</td>\n",
       "    </tr>\n",
       "    <tr>\n",
       "      <th>2</th>\n",
       "      <td>31-Oct-23</td>\n",
       "      <td>20.45</td>\n",
       "      <td>3.35</td>\n",
       "      <td>1.41</td>\n",
       "      <td>19079.60</td>\n",
       "      <td>932.988</td>\n",
       "    </tr>\n",
       "    <tr>\n",
       "      <th>3</th>\n",
       "      <td>29-Sep-23</td>\n",
       "      <td>22.21</td>\n",
       "      <td>3.45</td>\n",
       "      <td>1.37</td>\n",
       "      <td>19638.30</td>\n",
       "      <td>884.210</td>\n",
       "    </tr>\n",
       "    <tr>\n",
       "      <th>4</th>\n",
       "      <td>31-Aug-23</td>\n",
       "      <td>21.97</td>\n",
       "      <td>4.40</td>\n",
       "      <td>1.38</td>\n",
       "      <td>19253.80</td>\n",
       "      <td>876.368</td>\n",
       "    </tr>\n",
       "  </tbody>\n",
       "</table>\n",
       "</div>"
      ],
      "text/plain": [
       "        date    p/e   p/b  div yield %     close      eps\n",
       "0  29-Dec-23  23.17  3.81         1.28  21731.40  937.910\n",
       "1  30-Nov-23  21.52  3.53         1.35  20133.15  935.560\n",
       "2  31-Oct-23  20.45  3.35         1.41  19079.60  932.988\n",
       "3  29-Sep-23  22.21  3.45         1.37  19638.30  884.210\n",
       "4  31-Aug-23  21.97  4.40         1.38  19253.80  876.368"
      ]
     },
     "execution_count": 7,
     "metadata": {},
     "output_type": "execute_result"
    }
   ],
   "source": [
    "import pandas as pd\n",
    "da = pd.read_csv(\"niftysorted.csv\")\n",
    "da.head()"
   ]
  },
  {
   "cell_type": "code",
   "execution_count": 8,
   "metadata": {},
   "outputs": [
    {
     "name": "stdout",
     "output_type": "stream",
     "text": [
      "eps::price (%)\n",
      "6 months  9.29 :: 13.25\n",
      "12 months  12.88 :: 20.03\n",
      "18 months  15.9 :: 37.71\n",
      "24 months  30.3 :: 25.22\n",
      "30 months  69.01 :: 38.23\n",
      "36 months  157.93 :: 55.43\n",
      "42 months  139.62 :: 110.94\n",
      "48 months  118.13 :: 78.59\n",
      "54 months  130.56 :: 84.34\n",
      "60 months  125.96 :: 100.06\n"
     ]
    }
   ],
   "source": [
    "cur1 = da[\"eps\"][0:1].values\n",
    "cur2 = da[\"close\"][0:1].values\n",
    "\n",
    "print(\"eps::price (%)\")\n",
    "\n",
    "for t in range(6,61,6):\n",
    "\n",
    "    prev1 = da[\"eps\"][t:t+1].values\n",
    "    val = ((cur1/prev1-1)*100).round(2)\n",
    "    print(f\"{t} months  {val[0]}\",end=\"\")\n",
    "\n",
    "    prev2 = da[\"close\"][t:t+1].values \n",
    "    val = ((cur2/prev2-1)*100).round(2)\n",
    "    print(f\" :: {val[0]}\")"
   ]
  }
 ],
 "metadata": {
  "kernelspec": {
   "display_name": "Python 3",
   "language": "python",
   "name": "python3"
  },
  "language_info": {
   "codemirror_mode": {
    "name": "ipython",
    "version": 3
   },
   "file_extension": ".py",
   "mimetype": "text/x-python",
   "name": "python",
   "nbconvert_exporter": "python",
   "pygments_lexer": "ipython3",
   "version": "3.11.4"
  }
 },
 "nbformat": 4,
 "nbformat_minor": 2
}
