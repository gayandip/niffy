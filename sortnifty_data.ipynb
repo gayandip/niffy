{
  "cells": [
    {
      "cell_type": "code",
      "execution_count": 33,
      "metadata": {
        "colab": {
          "base_uri": "https://localhost:8080/",
          "height": 547
        },
        "id": "Om3RuBRx6CEB",
        "outputId": "b54e0189-244f-4b58-8262-0d2687a5f31e"
      },
      "outputs": [
        {
          "data": {
            "text/html": [
              "<div>\n",
              "<style scoped>\n",
              "    .dataframe tbody tr th:only-of-type {\n",
              "        vertical-align: middle;\n",
              "    }\n",
              "\n",
              "    .dataframe tbody tr th {\n",
              "        vertical-align: top;\n",
              "    }\n",
              "\n",
              "    .dataframe thead th {\n",
              "        text-align: right;\n",
              "    }\n",
              "</style>\n",
              "<table border=\"1\" class=\"dataframe\">\n",
              "  <thead>\n",
              "    <tr style=\"text-align: right;\">\n",
              "      <th></th>\n",
              "      <th>Date</th>\n",
              "      <th>P/E</th>\n",
              "      <th>P/B</th>\n",
              "      <th>Div Yield %</th>\n",
              "      <th>Close</th>\n",
              "      <th>EPS</th>\n",
              "    </tr>\n",
              "  </thead>\n",
              "  <tbody>\n",
              "    <tr>\n",
              "      <th>0</th>\n",
              "      <td>11-Jul-24</td>\n",
              "      <td>23.14</td>\n",
              "      <td>4.19</td>\n",
              "      <td>1.23</td>\n",
              "      <td>24315.95</td>\n",
              "      <td>1050.82</td>\n",
              "    </tr>\n",
              "    <tr>\n",
              "      <th>1</th>\n",
              "      <td>10-Jul-24</td>\n",
              "      <td>23.15</td>\n",
              "      <td>4.19</td>\n",
              "      <td>1.23</td>\n",
              "      <td>24324.45</td>\n",
              "      <td>1050.73</td>\n",
              "    </tr>\n",
              "    <tr>\n",
              "      <th>2</th>\n",
              "      <td>9-Jul-24</td>\n",
              "      <td>23.25</td>\n",
              "      <td>4.21</td>\n",
              "      <td>1.23</td>\n",
              "      <td>24433.20</td>\n",
              "      <td>1050.89</td>\n",
              "    </tr>\n",
              "    <tr>\n",
              "      <th>3</th>\n",
              "      <td>8-Jul-24</td>\n",
              "      <td>23.14</td>\n",
              "      <td>4.19</td>\n",
              "      <td>1.23</td>\n",
              "      <td>24320.55</td>\n",
              "      <td>1051.02</td>\n",
              "    </tr>\n",
              "    <tr>\n",
              "      <th>4</th>\n",
              "      <td>5-Jul-24</td>\n",
              "      <td>23.15</td>\n",
              "      <td>4.19</td>\n",
              "      <td>1.23</td>\n",
              "      <td>24323.85</td>\n",
              "      <td>1050.71</td>\n",
              "    </tr>\n",
              "  </tbody>\n",
              "</table>\n",
              "</div>"
            ],
            "text/plain": [
              "        Date    P/E   P/B Div Yield %     Close      EPS\n",
              "0  11-Jul-24  23.14  4.19        1.23  24315.95  1050.82\n",
              "1  10-Jul-24  23.15  4.19        1.23  24324.45  1050.73\n",
              "2   9-Jul-24  23.25  4.21        1.23  24433.20  1050.89\n",
              "3   8-Jul-24  23.14  4.19        1.23  24320.55  1051.02\n",
              "4   5-Jul-24  23.15  4.19        1.23  24323.85  1050.71"
            ]
          },
          "execution_count": 33,
          "metadata": {},
          "output_type": "execute_result"
        }
      ],
      "source": [
        "import pandas as pd\n",
        "da = pd.read_csv(\"newnifty.csv\")\n",
        "\n",
        "da.head()"
      ]
    },
    {
      "cell_type": "code",
      "execution_count": 34,
      "metadata": {},
      "outputs": [],
      "source": [
        "from datetime import datetime\n",
        "month = datetime.now().month"
      ]
    },
    {
      "cell_type": "code",
      "execution_count": 35,
      "metadata": {
        "colab": {
          "base_uri": "https://localhost:8080/",
          "height": 383
        },
        "id": "RZlKo4Gb694V",
        "outputId": "320003a7-b967-4216-869f-9f25fd33de5f"
      },
      "outputs": [],
      "source": [
        "row = da.shape\n",
        "row = row[0]\n",
        "\n",
        "l = \"date,p/e,p/b,div yield %,close,eps\\n\"\n",
        "co = month\n",
        "k = []\n",
        "def appe(j):\n",
        "    global l\n",
        "    te = \"\"\n",
        "    global co\n",
        "    k = da[j:j+1].values\n",
        "    k = k[0]\n",
        "    for u in range(len(k)):\n",
        "        te+=str(k[u])\n",
        "        if(u!=5):\n",
        "            te+=\",\"\n",
        "        else:\n",
        "            te+= \"\\n\"\n",
        "    l+=te\n",
        "\n",
        "    co -= 1\n",
        "    if(co == 0):\n",
        "        co = 12\n",
        "\n",
        "def ckadd(mo, j):\n",
        "    if(co == 1 and mo == \"Jan\"):\n",
        "        appe(j)\n",
        "    elif(co == 2 and mo == \"Feb\"):\n",
        "        appe(j)\n",
        "    elif(co == 3 and mo == \"Mar\"):\n",
        "        appe(j)\n",
        "    elif(co == 4 and mo == \"Apr\"):\n",
        "        appe(j)\n",
        "    elif(co == 5 and mo == \"May\"):\n",
        "        appe(j)\n",
        "    elif(co == 6 and mo == \"Jun\"):\n",
        "        appe(j)\n",
        "    elif(co == 7 and mo == \"Jul\"):\n",
        "        appe(j)\n",
        "    elif(co == 8 and mo == \"Aug\"):\n",
        "        appe(j)\n",
        "    elif(co == 9 and mo == \"Sep\"):\n",
        "        appe(j)\n",
        "    elif(co == 10 and mo == \"Oct\"):\n",
        "        appe(j)\n",
        "    elif(co == 11 and mo == \"Nov\"):\n",
        "        appe(j)\n",
        "    elif(co == 12 and mo == \"Dec\"):\n",
        "        appe(j)\n",
        "\n",
        "for i in range(row):\n",
        "    st =da.Date[i].split(\"-\")\n",
        "    ckadd(st[1],i)"
      ]
    },
    {
      "cell_type": "code",
      "execution_count": 36,
      "metadata": {
        "id": "vsGa0O-eM_yD"
      },
      "outputs": [],
      "source": [
        "loc = \"niftysorted.csv\"\n",
        "\n",
        "with open(loc,\"w\") as fi:\n",
        "    fi.write(str(l))"
      ]
    }
  ],
  "metadata": {
    "colab": {
      "provenance": []
    },
    "kernelspec": {
      "display_name": "Python 3",
      "name": "python3"
    },
    "language_info": {
      "codemirror_mode": {
        "name": "ipython",
        "version": 3
      },
      "file_extension": ".py",
      "mimetype": "text/x-python",
      "name": "python",
      "nbconvert_exporter": "python",
      "pygments_lexer": "ipython3",
      "version": "3.11.4"
    }
  },
  "nbformat": 4,
  "nbformat_minor": 0
}
