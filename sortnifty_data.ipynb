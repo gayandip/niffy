{
  "cells": [
    {
      "cell_type": "code",
      "execution_count": 7,
      "metadata": {
        "colab": {
          "base_uri": "https://localhost:8080/",
          "height": 547
        },
        "id": "Om3RuBRx6CEB",
        "outputId": "b54e0189-244f-4b58-8262-0d2687a5f31e"
      },
      "outputs": [
        {
          "data": {
            "text/html": [
              "<div>\n",
              "<style scoped>\n",
              "    .dataframe tbody tr th:only-of-type {\n",
              "        vertical-align: middle;\n",
              "    }\n",
              "\n",
              "    .dataframe tbody tr th {\n",
              "        vertical-align: top;\n",
              "    }\n",
              "\n",
              "    .dataframe thead th {\n",
              "        text-align: right;\n",
              "    }\n",
              "</style>\n",
              "<table border=\"1\" class=\"dataframe\">\n",
              "  <thead>\n",
              "    <tr style=\"text-align: right;\">\n",
              "      <th></th>\n",
              "      <th>Date</th>\n",
              "      <th>P/E</th>\n",
              "      <th>P/B</th>\n",
              "      <th>Div Yield %</th>\n",
              "      <th>Close</th>\n",
              "      <th>EPS</th>\n",
              "    </tr>\n",
              "  </thead>\n",
              "  <tbody>\n",
              "    <tr>\n",
              "      <th>0</th>\n",
              "      <td>29-Dec-23</td>\n",
              "      <td>23.17</td>\n",
              "      <td>3.81</td>\n",
              "      <td>1.28</td>\n",
              "      <td>21731.40</td>\n",
              "      <td>937.91</td>\n",
              "    </tr>\n",
              "    <tr>\n",
              "      <th>1</th>\n",
              "      <td>28-Dec-23</td>\n",
              "      <td>23.27</td>\n",
              "      <td>3.82</td>\n",
              "      <td>1.27</td>\n",
              "      <td>21778.70</td>\n",
              "      <td>935.91</td>\n",
              "    </tr>\n",
              "    <tr>\n",
              "      <th>2</th>\n",
              "      <td>27-Dec-23</td>\n",
              "      <td>23.14</td>\n",
              "      <td>3.80</td>\n",
              "      <td>1.28</td>\n",
              "      <td>21654.75</td>\n",
              "      <td>935.81</td>\n",
              "    </tr>\n",
              "    <tr>\n",
              "      <th>3</th>\n",
              "      <td>26-Dec-23</td>\n",
              "      <td>22.91</td>\n",
              "      <td>3.76</td>\n",
              "      <td>1.29</td>\n",
              "      <td>21441.35</td>\n",
              "      <td>935.89</td>\n",
              "    </tr>\n",
              "    <tr>\n",
              "      <th>4</th>\n",
              "      <td>22-Dec-23</td>\n",
              "      <td>22.81</td>\n",
              "      <td>3.74</td>\n",
              "      <td>1.3</td>\n",
              "      <td>21349.40</td>\n",
              "      <td>935.97</td>\n",
              "    </tr>\n",
              "  </tbody>\n",
              "</table>\n",
              "</div>"
            ],
            "text/plain": [
              "        Date    P/E   P/B Div Yield %     Close     EPS\n",
              "0  29-Dec-23  23.17  3.81        1.28  21731.40  937.91\n",
              "1  28-Dec-23  23.27  3.82        1.27  21778.70  935.91\n",
              "2  27-Dec-23  23.14  3.80        1.28  21654.75  935.81\n",
              "3  26-Dec-23  22.91  3.76        1.29  21441.35  935.89\n",
              "4  22-Dec-23  22.81  3.74         1.3  21349.40  935.97"
            ]
          },
          "execution_count": 7,
          "metadata": {},
          "output_type": "execute_result"
        }
      ],
      "source": [
        "import pandas as pd\n",
        "da = pd.read_csv(\"newnifty.csv\")\n",
        "\n",
        "da.head()"
      ]
    },
    {
      "cell_type": "code",
      "execution_count": 8,
      "metadata": {
        "colab": {
          "base_uri": "https://localhost:8080/",
          "height": 383
        },
        "id": "RZlKo4Gb694V",
        "outputId": "320003a7-b967-4216-869f-9f25fd33de5f"
      },
      "outputs": [],
      "source": [
        "row = da.shape\n",
        "row = row[0]\n",
        "\n",
        "l = \"date,p/e,p/b,div yield %,close,eps\\n\"\n",
        "co = 12\n",
        "k = []\n",
        "def appe(j):\n",
        "    global l\n",
        "    te = \"\"\n",
        "    global co\n",
        "    k = da[j:j+1].values\n",
        "    k = k[0]\n",
        "    for u in range(len(k)):\n",
        "        te+=str(k[u])\n",
        "        if(u!=5):\n",
        "            te+=\",\"\n",
        "        else:\n",
        "            te+= \"\\n\"\n",
        "    l+=te\n",
        "\n",
        "    co -= 1\n",
        "    if(co == 0):\n",
        "        co = 12\n",
        "\n",
        "def ckadd(mo, j):\n",
        "    if(co == 1 and mo == \"Jan\"):\n",
        "        appe(j)\n",
        "    elif(co == 2 and mo == \"Feb\"):\n",
        "        appe(j)\n",
        "    elif(co == 3 and mo == \"Mar\"):\n",
        "        appe(j)\n",
        "    elif(co == 4 and mo == \"Apr\"):\n",
        "        appe(j)\n",
        "    elif(co == 5 and mo == \"May\"):\n",
        "        appe(j)\n",
        "    elif(co == 6 and mo == \"Jun\"):\n",
        "        appe(j)\n",
        "    elif(co == 7 and mo == \"Jul\"):\n",
        "        appe(j)\n",
        "    elif(co == 8 and mo == \"Aug\"):\n",
        "        appe(j)\n",
        "    elif(co == 9 and mo == \"Sep\"):\n",
        "        appe(j)\n",
        "    elif(co == 10 and mo == \"Oct\"):\n",
        "        appe(j)\n",
        "    elif(co == 11 and mo == \"Nov\"):\n",
        "        appe(j)\n",
        "    elif(co == 12 and mo == \"Dec\"):\n",
        "        appe(j)\n",
        "\n",
        "for i in range(row):\n",
        "    st =da.Date[i].split(\"-\")\n",
        "    ckadd(st[1],i)\n"
      ]
    },
    {
      "cell_type": "code",
      "execution_count": 9,
      "metadata": {
        "id": "vsGa0O-eM_yD"
      },
      "outputs": [],
      "source": [
        "loc = \"niftysorted.csv\"\n",
        "\n",
        "with open(loc,\"w\") as fi:\n",
        "    fi.write(str(l))"
      ]
    }
  ],
  "metadata": {
    "colab": {
      "provenance": []
    },
    "kernelspec": {
      "display_name": "Python 3",
      "name": "python3"
    },
    "language_info": {
      "codemirror_mode": {
        "name": "ipython",
        "version": 3
      },
      "file_extension": ".py",
      "mimetype": "text/x-python",
      "name": "python",
      "nbconvert_exporter": "python",
      "pygments_lexer": "ipython3",
      "version": "3.11.4"
    }
  },
  "nbformat": 4,
  "nbformat_minor": 0
}
