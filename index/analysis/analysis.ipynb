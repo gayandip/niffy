{
 "cells": [
  {
   "cell_type": "code",
   "execution_count": null,
   "metadata": {},
   "outputs": [],
   "source": [
    "import pandas as pd\n",
    "data = pd.read_csv(\"data.csv\")\n",
    "data.date = pd.to_datetime(data.date)"
   ]
  },
  {
   "cell_type": "code",
   "execution_count": null,
   "metadata": {},
   "outputs": [],
   "source": [
    "res = pd.DataFrame(columns=[\"years\", \"eps %\", \"price %\", \"book-value %\"])\n",
    "\n",
    "time = [6, 12, 18, 24, 36, 60, 84, 108]\n",
    "\n",
    "cur1 = data.iloc[0].eps\n",
    "cur2 = data.iloc[0].close\n",
    "cur3 = data.iloc[0].bv\n",
    "i = 0\n",
    "for t in time:\n",
    "\n",
    "    try:\n",
    "        prev1 = data.iloc[t].eps\n",
    "        val1 = ((cur1/prev1-1)*100).round(2)\n",
    "\n",
    "        prev2 = data.iloc[t].close\n",
    "        val2 = ((cur2/prev2-1)*100).round(2)\n",
    "\n",
    "        prev3 = data.iloc[t].bv\n",
    "        val3 = ((cur3/prev3-1)*100).round(2)\n",
    "\n",
    "        res.loc[i] = [t/12, val1, val2, val3]\n",
    "        i += 1\n",
    "    except:\n",
    "        break"
   ]
  },
  {
   "cell_type": "code",
   "execution_count": null,
   "metadata": {},
   "outputs": [],
   "source": [
    "res"
   ]
  },
  {
   "cell_type": "code",
   "execution_count": null,
   "metadata": {},
   "outputs": [],
   "source": [
    "import matplotlib.pyplot as plt"
   ]
  },
  {
   "cell_type": "code",
   "execution_count": null,
   "metadata": {},
   "outputs": [],
   "source": [
    "plt.plot(data.date, data.pe)"
   ]
  },
  {
   "cell_type": "code",
   "execution_count": null,
   "metadata": {},
   "outputs": [],
   "source": [
    "\n",
    "plt.plot(data.date, data.pb)"
   ]
  }
 ],
 "metadata": {
  "kernelspec": {
   "display_name": "Python 3",
   "language": "python",
   "name": "python3"
  },
  "language_info": {
   "codemirror_mode": {
    "name": "ipython",
    "version": 3
   },
   "file_extension": ".py",
   "mimetype": "text/x-python",
   "name": "python",
   "nbconvert_exporter": "python",
   "pygments_lexer": "ipython3",
   "version": "3.11.4"
  }
 },
 "nbformat": 4,
 "nbformat_minor": 2
}
