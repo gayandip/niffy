{
 "cells": [
  {
   "cell_type": "code",
   "execution_count": null,
   "metadata": {},
   "outputs": [],
   "source": [
    "import pandas as pd\n",
    "\n",
    "prices=pd.read_csv(\"historical-prices.csv\")\n",
    "valuations=pd.read_csv(\"historical-pe.csv\")"
   ]
  },
  {
   "cell_type": "code",
   "execution_count": null,
   "metadata": {},
   "outputs": [],
   "source": [
    "rows = valuations.shape[0]\n",
    "if(prices.shape[0]!=rows):\n",
    "    prices = prices[:rows]"
   ]
  },
  {
   "cell_type": "code",
   "execution_count": null,
   "metadata": {},
   "outputs": [],
   "source": [
    "price = prices[\"Close\"]\n",
    "pe = valuations[\"P/E\"]\n",
    "pb = valuations[\"P/B\"]"
   ]
  },
  {
   "cell_type": "code",
   "execution_count": null,
   "metadata": {},
   "outputs": [],
   "source": [
    "if ((valuations.Date[0]!=prices.Date[0])and(valuations.Date[rows-1]!=prices.Date[rows-1])):\n",
    "    print(\"date mismatch\")\n",
    "else:\n",
    "    eps = (price/pe).round(2)\n",
    "    bv = (price/pb).round(2)"
   ]
  },
  {
   "cell_type": "code",
   "execution_count": null,
   "metadata": {},
   "outputs": [],
   "source": [
    "data = pd.DataFrame()\n",
    "data[\"date\"] = valuations.Date\n",
    "data[\"close\"] = prices.Close\n",
    "data[\"eps\"] = eps\n",
    "data[\"pe\"] = valuations[\"P/E\"]\n",
    "data[\"bv\"] = bv\n",
    "data[\"pb\"] = valuations[\"P/B\"]\n",
    "data[\"div-yield %\"] = valuations[\"Div Yield %\"]"
   ]
  },
  {
   "cell_type": "code",
   "execution_count": null,
   "metadata": {},
   "outputs": [],
   "source": [
    "data.date = pd.to_datetime(data.date)\n",
    "\n",
    "last_dates = data.groupby(data.date.dt.to_period(\"M\"))[\"date\"].transform(\"max\")\n",
    "sorted_data = data[data[\"date\"] == last_dates]"
   ]
  },
  {
   "cell_type": "code",
   "execution_count": null,
   "metadata": {},
   "outputs": [],
   "source": [
    "sorted_data.to_csv(\"../analysis/data.csv\",index=False)"
   ]
  }
 ],
 "metadata": {
  "kernelspec": {
   "display_name": "Python 3",
   "language": "python",
   "name": "python3"
  },
  "language_info": {
   "codemirror_mode": {
    "name": "ipython",
    "version": 3
   },
   "file_extension": ".py",
   "mimetype": "text/x-python",
   "name": "python",
   "nbconvert_exporter": "python",
   "pygments_lexer": "ipython3",
   "version": "3.11.4"
  }
 },
 "nbformat": 4,
 "nbformat_minor": 2
}
